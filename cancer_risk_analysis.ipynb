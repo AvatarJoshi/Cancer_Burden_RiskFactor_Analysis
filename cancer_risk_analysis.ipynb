{
 "cells": [
  {
   "cell_type": "code",
   "execution_count": 1,
   "metadata": {},
   "outputs": [],
   "source": [
    "# Import dependencies\n",
    "import pandas as pd\n",
    "from sodapy import Socrata"
   ]
  },
  {
   "cell_type": "markdown",
   "metadata": {},
   "source": [
    "# Load Data"
   ]
  },
  {
   "cell_type": "code",
   "execution_count": 2,
   "metadata": {},
   "outputs": [
    {
     "name": "stderr",
     "output_type": "stream",
     "text": [
      "WARNING:root:Requests made without an app_token will be subject to strict throttling limits.\n"
     ]
    }
   ],
   "source": [
    "# Unauthenticated client only works with public data sets. Note 'None'\n",
    "# in place of application token, and no username or password:\n",
    "client = Socrata(\"chronicdata.cdc.gov\", None)"
   ]
  },
  {
   "cell_type": "markdown",
   "metadata": {},
   "source": []
  },
  {
   "cell_type": "code",
   "execution_count": 3,
   "metadata": {},
   "outputs": [
    {
     "data": {
      "text/html": [
       "<div>\n",
       "<style scoped>\n",
       "    .dataframe tbody tr th:only-of-type {\n",
       "        vertical-align: middle;\n",
       "    }\n",
       "\n",
       "    .dataframe tbody tr th {\n",
       "        vertical-align: top;\n",
       "    }\n",
       "\n",
       "    .dataframe thead th {\n",
       "        text-align: right;\n",
       "    }\n",
       "</style>\n",
       "<table border=\"1\" class=\"dataframe\">\n",
       "  <thead>\n",
       "    <tr style=\"text-align: right;\">\n",
       "      <th></th>\n",
       "      <th>year</th>\n",
       "      <th>stateabbr</th>\n",
       "      <th>statedesc</th>\n",
       "      <th>locationname</th>\n",
       "      <th>datasource</th>\n",
       "      <th>category</th>\n",
       "      <th>measure</th>\n",
       "      <th>data_value_unit</th>\n",
       "      <th>data_value_type</th>\n",
       "      <th>data_value</th>\n",
       "      <th>low_confidence_limit</th>\n",
       "      <th>high_confidence_limit</th>\n",
       "      <th>totalpopulation</th>\n",
       "      <th>locationid</th>\n",
       "      <th>categoryid</th>\n",
       "      <th>measureid</th>\n",
       "      <th>datavaluetypeid</th>\n",
       "      <th>short_question_text</th>\n",
       "      <th>geolocation</th>\n",
       "      <th>:@computed_region_bxsw_vy29</th>\n",
       "      <th>:@computed_region_he4y_prf8</th>\n",
       "    </tr>\n",
       "  </thead>\n",
       "  <tbody>\n",
       "    <tr>\n",
       "      <th>0</th>\n",
       "      <td>2020</td>\n",
       "      <td>WY</td>\n",
       "      <td>Wyoming</td>\n",
       "      <td>Teton</td>\n",
       "      <td>BRFSS</td>\n",
       "      <td>Health Status</td>\n",
       "      <td>Physical health not good for &gt;=14 days among a...</td>\n",
       "      <td>%</td>\n",
       "      <td>Crude prevalence</td>\n",
       "      <td>7.3</td>\n",
       "      <td>6.4</td>\n",
       "      <td>8.2</td>\n",
       "      <td>23497</td>\n",
       "      <td>56039</td>\n",
       "      <td>HLTHSTAT</td>\n",
       "      <td>PHLTH</td>\n",
       "      <td>CrdPrv</td>\n",
       "      <td>Physical Health</td>\n",
       "      <td>{'type': 'Point', 'coordinates': [-110.426087,...</td>\n",
       "      <td>14</td>\n",
       "      <td>3126</td>\n",
       "    </tr>\n",
       "    <tr>\n",
       "      <th>1</th>\n",
       "      <td>2020</td>\n",
       "      <td>WY</td>\n",
       "      <td>Wyoming</td>\n",
       "      <td>Goshen</td>\n",
       "      <td>BRFSS</td>\n",
       "      <td>Health Status</td>\n",
       "      <td>Fair or poor self-rated health status among ad...</td>\n",
       "      <td>%</td>\n",
       "      <td>Crude prevalence</td>\n",
       "      <td>13.8</td>\n",
       "      <td>12.0</td>\n",
       "      <td>15.8</td>\n",
       "      <td>13235</td>\n",
       "      <td>56015</td>\n",
       "      <td>HLTHSTAT</td>\n",
       "      <td>GHLTH</td>\n",
       "      <td>CrdPrv</td>\n",
       "      <td>General Health</td>\n",
       "      <td>{'type': 'Point', 'coordinates': [-104.3535403...</td>\n",
       "      <td>14</td>\n",
       "      <td>890</td>\n",
       "    </tr>\n",
       "    <tr>\n",
       "      <th>2</th>\n",
       "      <td>2020</td>\n",
       "      <td>WY</td>\n",
       "      <td>Wyoming</td>\n",
       "      <td>Laramie</td>\n",
       "      <td>BRFSS</td>\n",
       "      <td>Prevention</td>\n",
       "      <td>Fecal occult blood test, sigmoidoscopy, or col...</td>\n",
       "      <td>%</td>\n",
       "      <td>Age-adjusted prevalence</td>\n",
       "      <td>61.6</td>\n",
       "      <td>58.5</td>\n",
       "      <td>64.6</td>\n",
       "      <td>100595</td>\n",
       "      <td>56021</td>\n",
       "      <td>PREVENT</td>\n",
       "      <td>COLON_SCREEN</td>\n",
       "      <td>AgeAdjPrv</td>\n",
       "      <td>Colorectal Cancer Screening</td>\n",
       "      <td>{'type': 'Point', 'coordinates': [-104.660395,...</td>\n",
       "      <td>14</td>\n",
       "      <td>3119</td>\n",
       "    </tr>\n",
       "    <tr>\n",
       "      <th>3</th>\n",
       "      <td>2020</td>\n",
       "      <td>WY</td>\n",
       "      <td>Wyoming</td>\n",
       "      <td>Park</td>\n",
       "      <td>BRFSS</td>\n",
       "      <td>Prevention</td>\n",
       "      <td>Visits to doctor for routine checkup within th...</td>\n",
       "      <td>%</td>\n",
       "      <td>Crude prevalence</td>\n",
       "      <td>71.0</td>\n",
       "      <td>70.0</td>\n",
       "      <td>72.0</td>\n",
       "      <td>29331</td>\n",
       "      <td>56029</td>\n",
       "      <td>PREVENT</td>\n",
       "      <td>CHECKUP</td>\n",
       "      <td>CrdPrv</td>\n",
       "      <td>Annual Checkup</td>\n",
       "      <td>{'type': 'Point', 'coordinates': [-109.5935975...</td>\n",
       "      <td>14</td>\n",
       "      <td>3122</td>\n",
       "    </tr>\n",
       "    <tr>\n",
       "      <th>4</th>\n",
       "      <td>2020</td>\n",
       "      <td>WY</td>\n",
       "      <td>Wyoming</td>\n",
       "      <td>Lincoln</td>\n",
       "      <td>BRFSS</td>\n",
       "      <td>Health Outcomes</td>\n",
       "      <td>Chronic obstructive pulmonary disease among ad...</td>\n",
       "      <td>%</td>\n",
       "      <td>Age-adjusted prevalence</td>\n",
       "      <td>5.9</td>\n",
       "      <td>5.1</td>\n",
       "      <td>6.8</td>\n",
       "      <td>20253</td>\n",
       "      <td>56023</td>\n",
       "      <td>HLTHOUT</td>\n",
       "      <td>COPD</td>\n",
       "      <td>AgeAdjPrv</td>\n",
       "      <td>COPD</td>\n",
       "      <td>{'type': 'Point', 'coordinates': [-110.6829614...</td>\n",
       "      <td>14</td>\n",
       "      <td>3120</td>\n",
       "    </tr>\n",
       "  </tbody>\n",
       "</table>\n",
       "</div>"
      ],
      "text/plain": [
       "   year stateabbr statedesc locationname datasource         category  \\\n",
       "0  2020        WY   Wyoming        Teton      BRFSS    Health Status   \n",
       "1  2020        WY   Wyoming       Goshen      BRFSS    Health Status   \n",
       "2  2020        WY   Wyoming      Laramie      BRFSS       Prevention   \n",
       "3  2020        WY   Wyoming         Park      BRFSS       Prevention   \n",
       "4  2020        WY   Wyoming      Lincoln      BRFSS  Health Outcomes   \n",
       "\n",
       "                                             measure data_value_unit  \\\n",
       "0  Physical health not good for >=14 days among a...               %   \n",
       "1  Fair or poor self-rated health status among ad...               %   \n",
       "2  Fecal occult blood test, sigmoidoscopy, or col...               %   \n",
       "3  Visits to doctor for routine checkup within th...               %   \n",
       "4  Chronic obstructive pulmonary disease among ad...               %   \n",
       "\n",
       "           data_value_type data_value low_confidence_limit  \\\n",
       "0         Crude prevalence        7.3                  6.4   \n",
       "1         Crude prevalence       13.8                 12.0   \n",
       "2  Age-adjusted prevalence       61.6                 58.5   \n",
       "3         Crude prevalence       71.0                 70.0   \n",
       "4  Age-adjusted prevalence        5.9                  5.1   \n",
       "\n",
       "  high_confidence_limit totalpopulation locationid categoryid     measureid  \\\n",
       "0                   8.2           23497      56039   HLTHSTAT         PHLTH   \n",
       "1                  15.8           13235      56015   HLTHSTAT         GHLTH   \n",
       "2                  64.6          100595      56021    PREVENT  COLON_SCREEN   \n",
       "3                  72.0           29331      56029    PREVENT       CHECKUP   \n",
       "4                   6.8           20253      56023    HLTHOUT          COPD   \n",
       "\n",
       "  datavaluetypeid          short_question_text  \\\n",
       "0          CrdPrv              Physical Health   \n",
       "1          CrdPrv               General Health   \n",
       "2       AgeAdjPrv  Colorectal Cancer Screening   \n",
       "3          CrdPrv               Annual Checkup   \n",
       "4       AgeAdjPrv                         COPD   \n",
       "\n",
       "                                         geolocation  \\\n",
       "0  {'type': 'Point', 'coordinates': [-110.426087,...   \n",
       "1  {'type': 'Point', 'coordinates': [-104.3535403...   \n",
       "2  {'type': 'Point', 'coordinates': [-104.660395,...   \n",
       "3  {'type': 'Point', 'coordinates': [-109.5935975...   \n",
       "4  {'type': 'Point', 'coordinates': [-110.6829614...   \n",
       "\n",
       "  :@computed_region_bxsw_vy29 :@computed_region_he4y_prf8  \n",
       "0                          14                        3126  \n",
       "1                          14                         890  \n",
       "2                          14                        3119  \n",
       "3                          14                        3122  \n",
       "4                          14                        3120  "
      ]
     },
     "execution_count": 3,
     "metadata": {},
     "output_type": "execute_result"
    }
   ],
   "source": [
    "# Return results as csv from API / converted to Python list of\n",
    "# dictionaries by sodapy.\n",
    "results = client.get(\"swc5-untb\", limit=2000000)\n",
    "\n",
    "# Convert to pandas DataFrame\n",
    "results_df = pd.DataFrame.from_records(results)\n",
    "\n",
    "# View all columns in dataframes\n",
    "pd.set_option('display.max_columns', None)  \n",
    "\n",
    "# Display dataframe\n",
    "results_df.head()"
   ]
  },
  {
   "cell_type": "markdown",
   "metadata": {},
   "source": [
    "# General Data Overview"
   ]
  },
  {
   "cell_type": "code",
   "execution_count": 4,
   "metadata": {},
   "outputs": [
    {
     "data": {
      "text/plain": [
       "array(['2020', '2019'], dtype=object)"
      ]
     },
     "execution_count": 4,
     "metadata": {},
     "output_type": "execute_result"
    }
   ],
   "source": [
    "# View how many years worth of data we have\n",
    "results_df['year'].unique()"
   ]
  },
  {
   "cell_type": "code",
   "execution_count": 5,
   "metadata": {},
   "outputs": [
    {
     "data": {
      "text/plain": [
       "year                              0\n",
       "stateabbr                         0\n",
       "statedesc                         0\n",
       "locationname                     60\n",
       "datasource                        0\n",
       "category                          0\n",
       "measure                           0\n",
       "data_value_unit                   0\n",
       "data_value_type                   0\n",
       "data_value                        0\n",
       "low_confidence_limit              0\n",
       "high_confidence_limit             0\n",
       "totalpopulation                   0\n",
       "locationid                        0\n",
       "categoryid                        0\n",
       "measureid                         0\n",
       "datavaluetypeid                   0\n",
       "short_question_text               0\n",
       "geolocation                      60\n",
       ":@computed_region_bxsw_vy29    1192\n",
       ":@computed_region_he4y_prf8     660\n",
       "dtype: int64"
      ]
     },
     "execution_count": 5,
     "metadata": {},
     "output_type": "execute_result"
    }
   ],
   "source": [
    "# View null values by year\n",
    "results_df.isnull().sum()"
   ]
  },
  {
   "cell_type": "code",
   "execution_count": 6,
   "metadata": {},
   "outputs": [
    {
     "data": {
      "text/plain": [
       "year                           object\n",
       "stateabbr                      object\n",
       "statedesc                      object\n",
       "locationname                   object\n",
       "datasource                     object\n",
       "category                       object\n",
       "measure                        object\n",
       "data_value_unit                object\n",
       "data_value_type                object\n",
       "data_value                     object\n",
       "low_confidence_limit           object\n",
       "high_confidence_limit          object\n",
       "totalpopulation                object\n",
       "locationid                     object\n",
       "categoryid                     object\n",
       "measureid                      object\n",
       "datavaluetypeid                object\n",
       "short_question_text            object\n",
       "geolocation                    object\n",
       ":@computed_region_bxsw_vy29    object\n",
       ":@computed_region_he4y_prf8    object\n",
       "dtype: object"
      ]
     },
     "execution_count": 6,
     "metadata": {},
     "output_type": "execute_result"
    }
   ],
   "source": [
    "# Check data types for results_df\n",
    "results_df.dtypes"
   ]
  },
  {
   "cell_type": "code",
   "execution_count": 7,
   "metadata": {},
   "outputs": [
    {
     "data": {
      "text/plain": [
       "array(['Health Status', 'Prevention', 'Health Outcomes',\n",
       "       'Health Risk Behaviors'], dtype=object)"
      ]
     },
     "execution_count": 7,
     "metadata": {},
     "output_type": "execute_result"
    }
   ],
   "source": [
    "# View health categories - (which include metrics we could use as features for machine learning)\n",
    "results_df['category'].unique()"
   ]
  },
  {
   "cell_type": "code",
   "execution_count": 8,
   "metadata": {},
   "outputs": [
    {
     "data": {
      "text/plain": [
       "array(['PHLTH', 'GHLTH', 'COLON_SCREEN', 'CHECKUP', 'DENTAL',\n",
       "       'CHOLSCREEN', 'CSMOKING', 'MHLTH', 'ACCESS2', 'BINGE', 'LPA',\n",
       "       'SLEEP', 'COREW', 'CERVICAL', 'MAMMOUSE', 'BPMED', 'COREM'],\n",
       "      dtype=object)"
      ]
     },
     "execution_count": 8,
     "metadata": {},
     "output_type": "execute_result"
    }
   ],
   "source": [
    "# View contributing health metrics (possible features for machine learning)\n",
    "results_df.loc[results_df['category'].isin(['Prevention', 'Health Risk Behaviors', 'Health Status'])]['measureid'].unique()"
   ]
  },
  {
   "cell_type": "code",
   "execution_count": 9,
   "metadata": {},
   "outputs": [
    {
     "data": {
      "text/plain": [
       "array(['PHLTH', 'GHLTH', 'COLON_SCREEN', 'CHECKUP', 'COPD', 'CASTHMA',\n",
       "       'TEETHLOST', 'CANCER', 'DENTAL', 'STROKE', 'CHOLSCREEN',\n",
       "       'CSMOKING', 'MHLTH', 'OBESITY', 'DIABETES', 'ARTHRITIS', 'ACCESS2',\n",
       "       'BINGE', 'LPA', 'CHD', 'KIDNEY', 'BPHIGH', 'HIGHCHOL', 'SLEEP',\n",
       "       'COREW', 'CERVICAL', 'MAMMOUSE', 'BPMED', 'DEPRESSION', 'COREM'],\n",
       "      dtype=object)"
      ]
     },
     "execution_count": 9,
     "metadata": {},
     "output_type": "execute_result"
    }
   ],
   "source": [
    "# View disease outcomes (possible targets for machine learning)\n",
    "# This analysis will focus on COPD (Chronic Obstructive Pulmonary Disease)\n",
    "# However, this notebook will make it easy to analyze other diseases\n",
    "results_df['measureid'].unique()"
   ]
  },
  {
   "attachments": {},
   "cell_type": "markdown",
   "metadata": {},
   "source": [
    "# Prepare Dataframe"
   ]
  },
  {
   "cell_type": "code",
   "execution_count": 10,
   "metadata": {},
   "outputs": [
    {
     "data": {
      "text/plain": [
       "year                             int64\n",
       "stateabbr                       object\n",
       "statedesc                       object\n",
       "locationname                    object\n",
       "datasource                      object\n",
       "category                        object\n",
       "measure                         object\n",
       "data_value_unit                 object\n",
       "data_value_type                 object\n",
       "data_value                     float64\n",
       "low_confidence_limit           float64\n",
       "high_confidence_limit          float64\n",
       "totalpopulation                  int64\n",
       "locationid                      object\n",
       "categoryid                      object\n",
       "measureid                       object\n",
       "datavaluetypeid                 object\n",
       "short_question_text             object\n",
       "geolocation                     object\n",
       ":@computed_region_bxsw_vy29     object\n",
       ":@computed_region_he4y_prf8     object\n",
       "dtype: object"
      ]
     },
     "execution_count": 10,
     "metadata": {},
     "output_type": "execute_result"
    }
   ],
   "source": [
    "# Create a list of columns from results_df we want to convert from object to numeric\n",
    "# This will allow us to perform calculations on the data\n",
    "numeric_list = ['year', 'data_value', 'low_confidence_limit', 'high_confidence_limit', 'totalpopulation']\n",
    "\n",
    "# Convert columns in numeric_list to numeric data type in results_df\n",
    "results_df[numeric_list] = results_df[numeric_list].apply(pd.to_numeric, errors='coerce')\n",
    "\n",
    "# View data types for results_df\n",
    "results_df.dtypes"
   ]
  },
  {
   "cell_type": "code",
   "execution_count": null,
   "metadata": {},
   "outputs": [],
   "source": []
  }
 ],
 "metadata": {
  "kernelspec": {
   "display_name": "mlenv2",
   "language": "python",
   "name": "python3"
  },
  "language_info": {
   "codemirror_mode": {
    "name": "ipython",
    "version": 3
   },
   "file_extension": ".py",
   "mimetype": "text/x-python",
   "name": "python",
   "nbconvert_exporter": "python",
   "pygments_lexer": "ipython3",
   "version": "3.7.13"
  },
  "orig_nbformat": 4
 },
 "nbformat": 4,
 "nbformat_minor": 2
}
