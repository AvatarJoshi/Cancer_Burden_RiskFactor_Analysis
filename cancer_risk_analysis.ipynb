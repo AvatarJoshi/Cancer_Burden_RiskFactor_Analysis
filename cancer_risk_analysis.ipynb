{
 "cells": [
  {
   "cell_type": "code",
   "execution_count": 31,
   "metadata": {},
   "outputs": [],
   "source": [
    "# Import dependencies\n",
    "import pandas as pd\n",
    "from sodapy import Socrata"
   ]
  },
  {
   "cell_type": "markdown",
   "metadata": {},
   "source": [
    "# Load Data"
   ]
  },
  {
   "cell_type": "code",
   "execution_count": 32,
   "metadata": {},
   "outputs": [
    {
     "name": "stderr",
     "output_type": "stream",
     "text": [
      "WARNING:root:Requests made without an app_token will be subject to strict throttling limits.\n"
     ]
    }
   ],
   "source": [
    "# Unauthenticated client only works with public data sets. Note 'None'\n",
    "# in place of application token, and no username or password:\n",
    "client = Socrata(\"chronicdata.cdc.gov\", None)"
   ]
  },
  {
   "cell_type": "markdown",
   "metadata": {},
   "source": []
  },
  {
   "cell_type": "code",
   "execution_count": 33,
   "metadata": {},
   "outputs": [
    {
     "data": {
      "text/html": [
       "<div>\n",
       "<style scoped>\n",
       "    .dataframe tbody tr th:only-of-type {\n",
       "        vertical-align: middle;\n",
       "    }\n",
       "\n",
       "    .dataframe tbody tr th {\n",
       "        vertical-align: top;\n",
       "    }\n",
       "\n",
       "    .dataframe thead th {\n",
       "        text-align: right;\n",
       "    }\n",
       "</style>\n",
       "<table border=\"1\" class=\"dataframe\">\n",
       "  <thead>\n",
       "    <tr style=\"text-align: right;\">\n",
       "      <th></th>\n",
       "      <th>year</th>\n",
       "      <th>stateabbr</th>\n",
       "      <th>statedesc</th>\n",
       "      <th>locationname</th>\n",
       "      <th>datasource</th>\n",
       "      <th>category</th>\n",
       "      <th>measure</th>\n",
       "      <th>data_value_unit</th>\n",
       "      <th>data_value_type</th>\n",
       "      <th>data_value</th>\n",
       "      <th>low_confidence_limit</th>\n",
       "      <th>high_confidence_limit</th>\n",
       "      <th>totalpopulation</th>\n",
       "      <th>locationid</th>\n",
       "      <th>categoryid</th>\n",
       "      <th>measureid</th>\n",
       "      <th>datavaluetypeid</th>\n",
       "      <th>short_question_text</th>\n",
       "      <th>geolocation</th>\n",
       "      <th>:@computed_region_bxsw_vy29</th>\n",
       "      <th>:@computed_region_he4y_prf8</th>\n",
       "    </tr>\n",
       "  </thead>\n",
       "  <tbody>\n",
       "    <tr>\n",
       "      <th>0</th>\n",
       "      <td>2019</td>\n",
       "      <td>WY</td>\n",
       "      <td>Wyoming</td>\n",
       "      <td>Washakie</td>\n",
       "      <td>BRFSS</td>\n",
       "      <td>Health Outcomes</td>\n",
       "      <td>High cholesterol among adults aged &gt;=18 years ...</td>\n",
       "      <td>%</td>\n",
       "      <td>Crude prevalence</td>\n",
       "      <td>32.1</td>\n",
       "      <td>31.2</td>\n",
       "      <td>33.1</td>\n",
       "      <td>7760</td>\n",
       "      <td>56043</td>\n",
       "      <td>HLTHOUT</td>\n",
       "      <td>HIGHCHOL</td>\n",
       "      <td>CrdPrv</td>\n",
       "      <td>High Cholesterol</td>\n",
       "      <td>{'type': 'Point', 'coordinates': [-107.669052,...</td>\n",
       "      <td>14</td>\n",
       "      <td>3127</td>\n",
       "    </tr>\n",
       "    <tr>\n",
       "      <th>1</th>\n",
       "      <td>2020</td>\n",
       "      <td>WY</td>\n",
       "      <td>Wyoming</td>\n",
       "      <td>Laramie</td>\n",
       "      <td>BRFSS</td>\n",
       "      <td>Health Risk Behaviors</td>\n",
       "      <td>No leisure-time physical activity among adults...</td>\n",
       "      <td>%</td>\n",
       "      <td>Crude prevalence</td>\n",
       "      <td>23.8</td>\n",
       "      <td>21.5</td>\n",
       "      <td>26.2</td>\n",
       "      <td>100595</td>\n",
       "      <td>56021</td>\n",
       "      <td>RISKBEH</td>\n",
       "      <td>LPA</td>\n",
       "      <td>CrdPrv</td>\n",
       "      <td>Physical Inactivity</td>\n",
       "      <td>{'type': 'Point', 'coordinates': [-104.660395,...</td>\n",
       "      <td>14</td>\n",
       "      <td>3119</td>\n",
       "    </tr>\n",
       "    <tr>\n",
       "      <th>2</th>\n",
       "      <td>2020</td>\n",
       "      <td>WY</td>\n",
       "      <td>Wyoming</td>\n",
       "      <td>Carbon</td>\n",
       "      <td>BRFSS</td>\n",
       "      <td>Health Status</td>\n",
       "      <td>Mental health not good for &gt;=14 days among adu...</td>\n",
       "      <td>%</td>\n",
       "      <td>Crude prevalence</td>\n",
       "      <td>12.9</td>\n",
       "      <td>12.1</td>\n",
       "      <td>13.7</td>\n",
       "      <td>14711</td>\n",
       "      <td>56007</td>\n",
       "      <td>HLTHSTAT</td>\n",
       "      <td>MHLTH</td>\n",
       "      <td>CrdPrv</td>\n",
       "      <td>Mental Health</td>\n",
       "      <td>{'type': 'Point', 'coordinates': [-106.9331526...</td>\n",
       "      <td>14</td>\n",
       "      <td>3081</td>\n",
       "    </tr>\n",
       "    <tr>\n",
       "      <th>3</th>\n",
       "      <td>2020</td>\n",
       "      <td>WY</td>\n",
       "      <td>Wyoming</td>\n",
       "      <td>Sublette</td>\n",
       "      <td>BRFSS</td>\n",
       "      <td>Health Outcomes</td>\n",
       "      <td>Depression among adults aged &gt;=18 years</td>\n",
       "      <td>%</td>\n",
       "      <td>Crude prevalence</td>\n",
       "      <td>16.0</td>\n",
       "      <td>15.0</td>\n",
       "      <td>17.1</td>\n",
       "      <td>9856</td>\n",
       "      <td>56035</td>\n",
       "      <td>HLTHOUT</td>\n",
       "      <td>DEPRESSION</td>\n",
       "      <td>CrdPrv</td>\n",
       "      <td>Depression</td>\n",
       "      <td>{'type': 'Point', 'coordinates': [-109.9161701...</td>\n",
       "      <td>14</td>\n",
       "      <td>3124</td>\n",
       "    </tr>\n",
       "    <tr>\n",
       "      <th>4</th>\n",
       "      <td>2020</td>\n",
       "      <td>WY</td>\n",
       "      <td>Wyoming</td>\n",
       "      <td>Uinta</td>\n",
       "      <td>BRFSS</td>\n",
       "      <td>Health Outcomes</td>\n",
       "      <td>Stroke among adults aged &gt;=18 years</td>\n",
       "      <td>%</td>\n",
       "      <td>Crude prevalence</td>\n",
       "      <td>3.0</td>\n",
       "      <td>2.7</td>\n",
       "      <td>3.4</td>\n",
       "      <td>20215</td>\n",
       "      <td>56041</td>\n",
       "      <td>HLTHOUT</td>\n",
       "      <td>STROKE</td>\n",
       "      <td>CrdPrv</td>\n",
       "      <td>Stroke</td>\n",
       "      <td>{'type': 'Point', 'coordinates': [-110.5589468...</td>\n",
       "      <td>14</td>\n",
       "      <td>893</td>\n",
       "    </tr>\n",
       "  </tbody>\n",
       "</table>\n",
       "</div>"
      ],
      "text/plain": [
       "   year stateabbr statedesc locationname datasource               category  \\\n",
       "0  2019        WY   Wyoming     Washakie      BRFSS        Health Outcomes   \n",
       "1  2020        WY   Wyoming      Laramie      BRFSS  Health Risk Behaviors   \n",
       "2  2020        WY   Wyoming       Carbon      BRFSS          Health Status   \n",
       "3  2020        WY   Wyoming     Sublette      BRFSS        Health Outcomes   \n",
       "4  2020        WY   Wyoming        Uinta      BRFSS        Health Outcomes   \n",
       "\n",
       "                                             measure data_value_unit  \\\n",
       "0  High cholesterol among adults aged >=18 years ...               %   \n",
       "1  No leisure-time physical activity among adults...               %   \n",
       "2  Mental health not good for >=14 days among adu...               %   \n",
       "3            Depression among adults aged >=18 years               %   \n",
       "4                Stroke among adults aged >=18 years               %   \n",
       "\n",
       "    data_value_type data_value low_confidence_limit high_confidence_limit  \\\n",
       "0  Crude prevalence       32.1                 31.2                  33.1   \n",
       "1  Crude prevalence       23.8                 21.5                  26.2   \n",
       "2  Crude prevalence       12.9                 12.1                  13.7   \n",
       "3  Crude prevalence       16.0                 15.0                  17.1   \n",
       "4  Crude prevalence        3.0                  2.7                   3.4   \n",
       "\n",
       "  totalpopulation locationid categoryid   measureid datavaluetypeid  \\\n",
       "0            7760      56043    HLTHOUT    HIGHCHOL          CrdPrv   \n",
       "1          100595      56021    RISKBEH         LPA          CrdPrv   \n",
       "2           14711      56007   HLTHSTAT       MHLTH          CrdPrv   \n",
       "3            9856      56035    HLTHOUT  DEPRESSION          CrdPrv   \n",
       "4           20215      56041    HLTHOUT      STROKE          CrdPrv   \n",
       "\n",
       "   short_question_text                                        geolocation  \\\n",
       "0     High Cholesterol  {'type': 'Point', 'coordinates': [-107.669052,...   \n",
       "1  Physical Inactivity  {'type': 'Point', 'coordinates': [-104.660395,...   \n",
       "2        Mental Health  {'type': 'Point', 'coordinates': [-106.9331526...   \n",
       "3           Depression  {'type': 'Point', 'coordinates': [-109.9161701...   \n",
       "4               Stroke  {'type': 'Point', 'coordinates': [-110.5589468...   \n",
       "\n",
       "  :@computed_region_bxsw_vy29 :@computed_region_he4y_prf8  \n",
       "0                          14                        3127  \n",
       "1                          14                        3119  \n",
       "2                          14                        3081  \n",
       "3                          14                        3124  \n",
       "4                          14                         893  "
      ]
     },
     "execution_count": 33,
     "metadata": {},
     "output_type": "execute_result"
    }
   ],
   "source": [
    "# Return results as csv from API / converted to Python list of\n",
    "# dictionaries by sodapy.\n",
    "results = client.get(\"swc5-untb\", limit=2000000)\n",
    "\n",
    "# Convert to pandas DataFrame\n",
    "results_df = pd.DataFrame.from_records(results)\n",
    "\n",
    "# View all columns in dataframes\n",
    "pd.set_option('display.max_columns', None)  \n",
    "\n",
    "# Display dataframe\n",
    "results_df.head()"
   ]
  },
  {
   "cell_type": "markdown",
   "metadata": {},
   "source": [
    "# General Data Overview"
   ]
  },
  {
   "cell_type": "code",
   "execution_count": 34,
   "metadata": {},
   "outputs": [
    {
     "data": {
      "text/plain": [
       "array(['2019', '2020'], dtype=object)"
      ]
     },
     "execution_count": 34,
     "metadata": {},
     "output_type": "execute_result"
    }
   ],
   "source": [
    "# View how many years worth of data we have\n",
    "results_df['year'].unique()"
   ]
  },
  {
   "cell_type": "code",
   "execution_count": 35,
   "metadata": {},
   "outputs": [
    {
     "data": {
      "text/plain": [
       "year                              0\n",
       "stateabbr                         0\n",
       "statedesc                         0\n",
       "locationname                     60\n",
       "datasource                        0\n",
       "category                          0\n",
       "measure                           0\n",
       "data_value_unit                   0\n",
       "data_value_type                   0\n",
       "data_value                        0\n",
       "low_confidence_limit              0\n",
       "high_confidence_limit             0\n",
       "totalpopulation                   0\n",
       "locationid                        0\n",
       "categoryid                        0\n",
       "measureid                         0\n",
       "datavaluetypeid                   0\n",
       "short_question_text               0\n",
       "geolocation                      60\n",
       ":@computed_region_bxsw_vy29    1192\n",
       ":@computed_region_he4y_prf8     660\n",
       "dtype: int64"
      ]
     },
     "execution_count": 35,
     "metadata": {},
     "output_type": "execute_result"
    }
   ],
   "source": [
    "# View null values by year\n",
    "results_df.isnull().sum()"
   ]
  },
  {
   "cell_type": "code",
   "execution_count": 36,
   "metadata": {},
   "outputs": [
    {
     "data": {
      "text/plain": [
       "year                           object\n",
       "stateabbr                      object\n",
       "statedesc                      object\n",
       "locationname                   object\n",
       "datasource                     object\n",
       "category                       object\n",
       "measure                        object\n",
       "data_value_unit                object\n",
       "data_value_type                object\n",
       "data_value                     object\n",
       "low_confidence_limit           object\n",
       "high_confidence_limit          object\n",
       "totalpopulation                object\n",
       "locationid                     object\n",
       "categoryid                     object\n",
       "measureid                      object\n",
       "datavaluetypeid                object\n",
       "short_question_text            object\n",
       "geolocation                    object\n",
       ":@computed_region_bxsw_vy29    object\n",
       ":@computed_region_he4y_prf8    object\n",
       "dtype: object"
      ]
     },
     "execution_count": 36,
     "metadata": {},
     "output_type": "execute_result"
    }
   ],
   "source": [
    "# Check data types for results_df\n",
    "results_df.dtypes"
   ]
  },
  {
   "cell_type": "code",
   "execution_count": 37,
   "metadata": {},
   "outputs": [
    {
     "data": {
      "text/plain": [
       "array(['Health Outcomes', 'Health Risk Behaviors', 'Health Status',\n",
       "       'Prevention'], dtype=object)"
      ]
     },
     "execution_count": 37,
     "metadata": {},
     "output_type": "execute_result"
    }
   ],
   "source": [
    "# View health categories - (which include metrics we could use as features for machine learning)\n",
    "results_df['category'].unique()"
   ]
  },
  {
   "cell_type": "code",
   "execution_count": 38,
   "metadata": {},
   "outputs": [
    {
     "data": {
      "text/plain": [
       "array(['LPA', 'MHLTH', 'DENTAL', 'BINGE', 'COREW', 'CERVICAL', 'PHLTH',\n",
       "       'BPMED', 'COLON_SCREEN', 'CHOLSCREEN', 'COREM', 'SLEEP',\n",
       "       'CSMOKING', 'MAMMOUSE', 'ACCESS2', 'GHLTH', 'CHECKUP'],\n",
       "      dtype=object)"
      ]
     },
     "execution_count": 38,
     "metadata": {},
     "output_type": "execute_result"
    }
   ],
   "source": [
    "# View contributing health metrics (possible features for machine learning)\n",
    "results_df.loc[results_df['category'].isin(['Prevention', 'Health Risk Behaviors', 'Health Status'])]['measureid'].unique()"
   ]
  },
  {
   "cell_type": "code",
   "execution_count": 39,
   "metadata": {},
   "outputs": [
    {
     "data": {
      "text/plain": [
       "array(['HIGHCHOL', 'LPA', 'MHLTH', 'DEPRESSION', 'STROKE', 'CASTHMA',\n",
       "       'BPHIGH', 'DIABETES', 'DENTAL', 'BINGE', 'COPD', 'COREW',\n",
       "       'CERVICAL', 'CHD', 'PHLTH', 'BPMED', 'COLON_SCREEN', 'KIDNEY',\n",
       "       'CHOLSCREEN', 'COREM', 'SLEEP', 'CSMOKING', 'MAMMOUSE',\n",
       "       'ARTHRITIS', 'ACCESS2', 'TEETHLOST', 'CANCER', 'GHLTH', 'CHECKUP',\n",
       "       'OBESITY'], dtype=object)"
      ]
     },
     "execution_count": 39,
     "metadata": {},
     "output_type": "execute_result"
    }
   ],
   "source": [
    "# View disease outcomes (possible targets for machine learning)\n",
    "# This analysis will focus on COPD (Chronic Obstructive Pulmonary Disease)\n",
    "# However, this notebook will make it easy to analyze other diseases\n",
    "results_df['measureid'].unique()"
   ]
  },
  {
   "attachments": {},
   "cell_type": "markdown",
   "metadata": {},
   "source": [
    "# Prepare Dataframe"
   ]
  },
  {
   "cell_type": "code",
   "execution_count": 40,
   "metadata": {},
   "outputs": [
    {
     "data": {
      "text/plain": [
       "year                             int64\n",
       "stateabbr                       object\n",
       "statedesc                       object\n",
       "locationname                    object\n",
       "datasource                      object\n",
       "category                        object\n",
       "measure                         object\n",
       "data_value_unit                 object\n",
       "data_value_type                 object\n",
       "data_value                     float64\n",
       "low_confidence_limit           float64\n",
       "high_confidence_limit          float64\n",
       "totalpopulation                  int64\n",
       "locationid                      object\n",
       "categoryid                      object\n",
       "measureid                       object\n",
       "datavaluetypeid                 object\n",
       "short_question_text             object\n",
       "geolocation                     object\n",
       ":@computed_region_bxsw_vy29     object\n",
       ":@computed_region_he4y_prf8     object\n",
       "dtype: object"
      ]
     },
     "execution_count": 40,
     "metadata": {},
     "output_type": "execute_result"
    }
   ],
   "source": [
    "# Create a list of columns from results_df we want to convert from object to numeric\n",
    "# This will allow us to perform calculations on the data\n",
    "numeric_list = ['year', 'data_value', 'low_confidence_limit', 'high_confidence_limit', 'totalpopulation']\n",
    "\n",
    "# Convert columns in numeric_list to numeric data type in results_df\n",
    "results_df[numeric_list] = results_df[numeric_list].apply(pd.to_numeric, errors='coerce')\n",
    "\n",
    "# View data types for results_df\n",
    "results_df.dtypes"
   ]
  },
  {
   "cell_type": "code",
   "execution_count": 41,
   "metadata": {},
   "outputs": [
    {
     "name": "stdout",
     "output_type": "stream",
     "text": [
      "LPA_df - ['No leisure-time physical activity among adults aged >=18 years']\n",
      "MHLTH_df - ['Mental health not good for >=14 days among adults aged >=18 years']\n",
      "DENTAL_df - ['Visits to dentist or dental clinic among adults aged >=18 years']\n",
      "BINGE_df - ['Binge drinking among adults aged >=18 years']\n",
      "COREW_df - ['Older adult women aged >=65 years who are up to date on a core set of clinical preventive services: Flu shot past year, PPV shot ever, Colorectal cancer screening, and Mammogram past 2 years']\n",
      "CERVICAL_df - ['Cervical cancer screening among adult women aged 21-65 years']\n",
      "PHLTH_df - ['Physical health not good for >=14 days among adults aged >=18 years']\n",
      "BPMED_df - ['Taking medicine for high blood pressure control among adults aged >=18 years with high blood pressure']\n",
      "COLON_SCREEN_df - ['Fecal occult blood test, sigmoidoscopy, or colonoscopy among adults aged 50-75 years']\n",
      "CHOLSCREEN_df - ['Cholesterol screening among adults aged >=18 years']\n",
      "COREM_df - ['Older adult men aged >=65 years who are up to date on a core set of clinical preventive services: Flu shot past year, PPV shot ever, Colorectal cancer screening']\n",
      "SLEEP_df - ['Sleeping less than 7 hours among adults aged >=18 years']\n",
      "CSMOKING_df - ['Current smoking among adults aged >=18 years']\n",
      "MAMMOUSE_df - ['Mammography use among women aged 50-74 years']\n",
      "ACCESS2_df - ['Current lack of health insurance among adults aged 18-64 years']\n",
      "GHLTH_df - ['Fair or poor self-rated health status among adults aged >=18 years']\n",
      "CHECKUP_df - ['Visits to doctor for routine checkup within the past year among adults aged >=18 years']\n"
     ]
    }
   ],
   "source": [
    "# Create a list of the health metrics which will become our features and make them into dataframes\n",
    "# And print the feature and the measure of each dataframe as a key to more easily understand the data\n",
    "\n",
    "# Add the health outcomes to a list\n",
    "features_list = results_df.loc[results_df['category'].isin(['Prevention', 'Health Risk Behaviors', 'Health Status'])]['measureid'].unique()\n",
    "\n",
    "# Create unique dataframes for each feature in the features_list\n",
    "for feature in features_list:\n",
    "    globals()[feature + \"_df\"] = results_df.loc[results_df['measureid'] == feature]\n",
    "\n",
    "# Create a list that contains the names of the dataframes made in the step above\n",
    "dataframes_list = [feature + \"_df\" for feature in features_list]\n",
    "\n",
    "# Print the feature and the measure of each dataframe\n",
    "for dataframe in dataframes_list:\n",
    "    print(f\"{dataframe} - {globals()[dataframe]['measure'].unique()}\")"
   ]
  },
  {
   "cell_type": "code",
   "execution_count": 42,
   "metadata": {},
   "outputs": [
    {
     "data": {
      "text/html": [
       "<div>\n",
       "<style scoped>\n",
       "    .dataframe tbody tr th:only-of-type {\n",
       "        vertical-align: middle;\n",
       "    }\n",
       "\n",
       "    .dataframe tbody tr th {\n",
       "        vertical-align: top;\n",
       "    }\n",
       "\n",
       "    .dataframe thead th {\n",
       "        text-align: right;\n",
       "    }\n",
       "</style>\n",
       "<table border=\"1\" class=\"dataframe\">\n",
       "  <thead>\n",
       "    <tr style=\"text-align: right;\">\n",
       "      <th></th>\n",
       "      <th>year</th>\n",
       "      <th>stateabbr</th>\n",
       "      <th>statedesc</th>\n",
       "      <th>locationname</th>\n",
       "      <th>datasource</th>\n",
       "      <th>category</th>\n",
       "      <th>measure</th>\n",
       "      <th>data_value_unit</th>\n",
       "      <th>data_value_type</th>\n",
       "      <th>data_value</th>\n",
       "      <th>low_confidence_limit</th>\n",
       "      <th>high_confidence_limit</th>\n",
       "      <th>totalpopulation</th>\n",
       "      <th>locationid</th>\n",
       "      <th>categoryid</th>\n",
       "      <th>measureid</th>\n",
       "      <th>datavaluetypeid</th>\n",
       "      <th>short_question_text</th>\n",
       "      <th>geolocation</th>\n",
       "      <th>:@computed_region_bxsw_vy29</th>\n",
       "      <th>:@computed_region_he4y_prf8</th>\n",
       "    </tr>\n",
       "  </thead>\n",
       "  <tbody>\n",
       "    <tr>\n",
       "      <th>77</th>\n",
       "      <td>2020</td>\n",
       "      <td>WY</td>\n",
       "      <td>Wyoming</td>\n",
       "      <td>Niobrara</td>\n",
       "      <td>BRFSS</td>\n",
       "      <td>Health Outcomes</td>\n",
       "      <td>Cancer (excluding skin cancer) among adults ag...</td>\n",
       "      <td>%</td>\n",
       "      <td>Crude prevalence</td>\n",
       "      <td>8.4</td>\n",
       "      <td>8.0</td>\n",
       "      <td>8.9</td>\n",
       "      <td>2275</td>\n",
       "      <td>56027</td>\n",
       "      <td>HLTHOUT</td>\n",
       "      <td>CANCER</td>\n",
       "      <td>CrdPrv</td>\n",
       "      <td>Cancer (except skin)</td>\n",
       "      <td>{'type': 'Point', 'coordinates': [-104.4683727...</td>\n",
       "      <td>14</td>\n",
       "      <td>3121</td>\n",
       "    </tr>\n",
       "    <tr>\n",
       "      <th>89</th>\n",
       "      <td>2020</td>\n",
       "      <td>WY</td>\n",
       "      <td>Wyoming</td>\n",
       "      <td>Sheridan</td>\n",
       "      <td>BRFSS</td>\n",
       "      <td>Health Outcomes</td>\n",
       "      <td>Cancer (excluding skin cancer) among adults ag...</td>\n",
       "      <td>%</td>\n",
       "      <td>Age-adjusted prevalence</td>\n",
       "      <td>6.0</td>\n",
       "      <td>5.7</td>\n",
       "      <td>6.3</td>\n",
       "      <td>30863</td>\n",
       "      <td>56033</td>\n",
       "      <td>HLTHOUT</td>\n",
       "      <td>CANCER</td>\n",
       "      <td>AgeAdjPrv</td>\n",
       "      <td>Cancer (except skin)</td>\n",
       "      <td>{'type': 'Point', 'coordinates': [-106.8812114...</td>\n",
       "      <td>14</td>\n",
       "      <td>3123</td>\n",
       "    </tr>\n",
       "    <tr>\n",
       "      <th>133</th>\n",
       "      <td>2020</td>\n",
       "      <td>WY</td>\n",
       "      <td>Wyoming</td>\n",
       "      <td>Lincoln</td>\n",
       "      <td>BRFSS</td>\n",
       "      <td>Health Outcomes</td>\n",
       "      <td>Cancer (excluding skin cancer) among adults ag...</td>\n",
       "      <td>%</td>\n",
       "      <td>Crude prevalence</td>\n",
       "      <td>7.7</td>\n",
       "      <td>7.3</td>\n",
       "      <td>8.1</td>\n",
       "      <td>20253</td>\n",
       "      <td>56023</td>\n",
       "      <td>HLTHOUT</td>\n",
       "      <td>CANCER</td>\n",
       "      <td>CrdPrv</td>\n",
       "      <td>Cancer (except skin)</td>\n",
       "      <td>{'type': 'Point', 'coordinates': [-110.6829614...</td>\n",
       "      <td>14</td>\n",
       "      <td>3120</td>\n",
       "    </tr>\n",
       "  </tbody>\n",
       "</table>\n",
       "</div>"
      ],
      "text/plain": [
       "     year stateabbr statedesc locationname datasource         category  \\\n",
       "77   2020        WY   Wyoming     Niobrara      BRFSS  Health Outcomes   \n",
       "89   2020        WY   Wyoming     Sheridan      BRFSS  Health Outcomes   \n",
       "133  2020        WY   Wyoming      Lincoln      BRFSS  Health Outcomes   \n",
       "\n",
       "                                               measure data_value_unit  \\\n",
       "77   Cancer (excluding skin cancer) among adults ag...               %   \n",
       "89   Cancer (excluding skin cancer) among adults ag...               %   \n",
       "133  Cancer (excluding skin cancer) among adults ag...               %   \n",
       "\n",
       "             data_value_type  data_value  low_confidence_limit  \\\n",
       "77          Crude prevalence         8.4                   8.0   \n",
       "89   Age-adjusted prevalence         6.0                   5.7   \n",
       "133         Crude prevalence         7.7                   7.3   \n",
       "\n",
       "     high_confidence_limit  totalpopulation locationid categoryid measureid  \\\n",
       "77                     8.9             2275      56027    HLTHOUT    CANCER   \n",
       "89                     6.3            30863      56033    HLTHOUT    CANCER   \n",
       "133                    8.1            20253      56023    HLTHOUT    CANCER   \n",
       "\n",
       "    datavaluetypeid   short_question_text  \\\n",
       "77           CrdPrv  Cancer (except skin)   \n",
       "89        AgeAdjPrv  Cancer (except skin)   \n",
       "133          CrdPrv  Cancer (except skin)   \n",
       "\n",
       "                                           geolocation  \\\n",
       "77   {'type': 'Point', 'coordinates': [-104.4683727...   \n",
       "89   {'type': 'Point', 'coordinates': [-106.8812114...   \n",
       "133  {'type': 'Point', 'coordinates': [-110.6829614...   \n",
       "\n",
       "    :@computed_region_bxsw_vy29 :@computed_region_he4y_prf8  \n",
       "77                           14                        3121  \n",
       "89                           14                        3123  \n",
       "133                          14                        3120  "
      ]
     },
     "execution_count": 42,
     "metadata": {},
     "output_type": "execute_result"
    }
   ],
   "source": [
    "# Create the cancer dataframe by filtering results_df which will be our taget\n",
    "cancer_df = results_df.loc[results_df[\"measureid\"] == \"CANCER\", :]\n",
    "\n",
    "# Display dataframe and view all columns\n",
    "cancer_df.head(3)"
   ]
  },
  {
   "cell_type": "code",
   "execution_count": 43,
   "metadata": {},
   "outputs": [
    {
     "data": {
      "text/plain": [
       "['LPA_df',\n",
       " 'MHLTH_df',\n",
       " 'DENTAL_df',\n",
       " 'BINGE_df',\n",
       " 'COREW_df',\n",
       " 'CERVICAL_df',\n",
       " 'PHLTH_df',\n",
       " 'BPMED_df',\n",
       " 'COLON_SCREEN_df',\n",
       " 'CHOLSCREEN_df',\n",
       " 'COREM_df',\n",
       " 'SLEEP_df',\n",
       " 'CSMOKING_df',\n",
       " 'MAMMOUSE_df',\n",
       " 'ACCESS2_df',\n",
       " 'GHLTH_df',\n",
       " 'CHECKUP_df']"
      ]
     },
     "execution_count": 43,
     "metadata": {},
     "output_type": "execute_result"
    }
   ],
   "source": [
    "# View dataframes list\n",
    "dataframes_list"
   ]
  },
  {
   "cell_type": "code",
   "execution_count": 44,
   "metadata": {},
   "outputs": [
    {
     "data": {
      "text/html": [
       "<div>\n",
       "<style scoped>\n",
       "    .dataframe tbody tr th:only-of-type {\n",
       "        vertical-align: middle;\n",
       "    }\n",
       "\n",
       "    .dataframe tbody tr th {\n",
       "        vertical-align: top;\n",
       "    }\n",
       "\n",
       "    .dataframe thead th {\n",
       "        text-align: right;\n",
       "    }\n",
       "</style>\n",
       "<table border=\"1\" class=\"dataframe\">\n",
       "  <thead>\n",
       "    <tr style=\"text-align: right;\">\n",
       "      <th></th>\n",
       "      <th>year</th>\n",
       "      <th>stateabbr</th>\n",
       "      <th>locationname</th>\n",
       "      <th>CANCER_data_value</th>\n",
       "      <th>totalpopulation</th>\n",
       "    </tr>\n",
       "  </thead>\n",
       "  <tbody>\n",
       "    <tr>\n",
       "      <th>89</th>\n",
       "      <td>2020</td>\n",
       "      <td>WY</td>\n",
       "      <td>Sheridan</td>\n",
       "      <td>6.0</td>\n",
       "      <td>30863</td>\n",
       "    </tr>\n",
       "    <tr>\n",
       "      <th>365</th>\n",
       "      <td>2020</td>\n",
       "      <td>WY</td>\n",
       "      <td>Goshen</td>\n",
       "      <td>6.0</td>\n",
       "      <td>13235</td>\n",
       "    </tr>\n",
       "    <tr>\n",
       "      <th>500</th>\n",
       "      <td>2020</td>\n",
       "      <td>WY</td>\n",
       "      <td>Uinta</td>\n",
       "      <td>5.9</td>\n",
       "      <td>20215</td>\n",
       "    </tr>\n",
       "    <tr>\n",
       "      <th>604</th>\n",
       "      <td>2020</td>\n",
       "      <td>WY</td>\n",
       "      <td>Park</td>\n",
       "      <td>6.0</td>\n",
       "      <td>29331</td>\n",
       "    </tr>\n",
       "    <tr>\n",
       "      <th>624</th>\n",
       "      <td>2020</td>\n",
       "      <td>WY</td>\n",
       "      <td>Big Horn</td>\n",
       "      <td>6.0</td>\n",
       "      <td>11575</td>\n",
       "    </tr>\n",
       "    <tr>\n",
       "      <th>672</th>\n",
       "      <td>2020</td>\n",
       "      <td>WY</td>\n",
       "      <td>Carbon</td>\n",
       "      <td>5.8</td>\n",
       "      <td>14711</td>\n",
       "    </tr>\n",
       "  </tbody>\n",
       "</table>\n",
       "</div>"
      ],
      "text/plain": [
       "     year stateabbr locationname  CANCER_data_value  totalpopulation\n",
       "89   2020        WY     Sheridan                6.0            30863\n",
       "365  2020        WY       Goshen                6.0            13235\n",
       "500  2020        WY        Uinta                5.9            20215\n",
       "604  2020        WY         Park                6.0            29331\n",
       "624  2020        WY     Big Horn                6.0            11575\n",
       "672  2020        WY       Carbon                5.8            14711"
      ]
     },
     "execution_count": 44,
     "metadata": {},
     "output_type": "execute_result"
    }
   ],
   "source": [
    "# Add copd_df to dataframes_list\n",
    "dataframes_list.append(\"cancer_df\")\n",
    "\n",
    "# Filter dataframes to only include datavaluetypeid AgeAdjPrv\n",
    "for dataframe in dataframes_list:\n",
    "    globals()[dataframe] = globals()[dataframe].loc[globals()[dataframe]['datavaluetypeid'] == 'AgeAdjPrv']\n",
    "\n",
    "# Change the name of data_value to the name of the measureid + data_value for all dataframes\n",
    "for dataframe in dataframes_list:\n",
    "    globals()[dataframe] = globals()[dataframe].rename(columns={'data_value': globals()[dataframe]['measureid'].unique()[0] + '_data_value'})\n",
    "\n",
    "\n",
    "# Drop unnecessary columns for all dataframes in dataframes_list\n",
    "for dataframe in dataframes_list:\n",
    "    globals()[dataframe] = globals()[dataframe].drop(columns=['statedesc', 'datasource', 'category', 'measure', \n",
    "                                                              'data_value_unit', 'locationid', 'categoryid', \n",
    "                                                              'measureid', 'data_value_type', 'low_confidence_limit', \n",
    "                                                              'high_confidence_limit', 'short_question_text', 'geolocation', \n",
    "                                                              'datavaluetypeid', ':@computed_region_bxsw_vy29', \n",
    "                                                              ':@computed_region_he4y_prf8'], axis=1)\n",
    "\n",
    "# Display dataframe and view all columns\n",
    "cancer_df.head(6)"
   ]
  },
  {
   "cell_type": "code",
   "execution_count": 47,
   "metadata": {},
   "outputs": [
    {
     "data": {
      "text/plain": [
       "['LPA_df',\n",
       " 'MHLTH_df',\n",
       " 'DENTAL_df',\n",
       " 'BINGE_df',\n",
       " 'COREW_df',\n",
       " 'CERVICAL_df',\n",
       " 'PHLTH_df',\n",
       " 'BPMED_df',\n",
       " 'COLON_SCREEN_df',\n",
       " 'CHOLSCREEN_df',\n",
       " 'COREM_df',\n",
       " 'SLEEP_df',\n",
       " 'CSMOKING_df',\n",
       " 'MAMMOUSE_df',\n",
       " 'ACCESS2_df',\n",
       " 'GHLTH_df',\n",
       " 'CHECKUP_df',\n",
       " 'cancer_df']"
      ]
     },
     "execution_count": 47,
     "metadata": {},
     "output_type": "execute_result"
    }
   ],
   "source": [
    "# View dataframes list\n",
    "dataframes_list"
   ]
  },
  {
   "cell_type": "code",
   "execution_count": null,
   "metadata": {},
   "outputs": [],
   "source": []
  }
 ],
 "metadata": {
  "kernelspec": {
   "display_name": "mlenv2",
   "language": "python",
   "name": "python3"
  },
  "language_info": {
   "codemirror_mode": {
    "name": "ipython",
    "version": 3
   },
   "file_extension": ".py",
   "mimetype": "text/x-python",
   "name": "python",
   "nbconvert_exporter": "python",
   "pygments_lexer": "ipython3",
   "version": "3.7.13"
  },
  "orig_nbformat": 4
 },
 "nbformat": 4,
 "nbformat_minor": 2
}
